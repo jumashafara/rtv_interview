{
 "cells": [
  {
   "cell_type": "markdown",
   "metadata": {},
   "source": [
    "## Import all required libraries"
   ]
  },
  {
   "cell_type": "code",
   "execution_count": 2,
   "metadata": {},
   "outputs": [],
   "source": [
    "import numpy as np\n",
    "import pandas as pd\n",
    "from helper_functions import getColumnsWithMissingData\n",
    "from helper_functions import getLowerAndUpperBounds\n",
    "from sklearn.preprocessing import LabelEncoder"
   ]
  },
  {
   "cell_type": "markdown",
   "metadata": {},
   "source": [
    "## Handle Missing Data"
   ]
  },
  {
   "cell_type": "code",
   "execution_count": 3,
   "metadata": {},
   "outputs": [
    {
     "name": "stdout",
     "output_type": "stream",
     "text": [
      "Index(['AgricultureLand', 'business_number', 'Loan_from',\n",
      "       'organic_pesticide_expenditure', 'food_banana_wilt_diseases'],\n",
      "      dtype='object')\n"
     ]
    }
   ],
   "source": [
    "# load data\n",
    "data_ = pd.read_csv('DataScientist_01_Assessment.csv')\n",
    "\n",
    "# find missing data\n",
    "columns_with_missing_data = getColumnsWithMissingData(data=data_)\n",
    "print(columns_with_missing_data)"
   ]
  },
  {
   "cell_type": "code",
   "execution_count": 4,
   "metadata": {},
   "outputs": [],
   "source": [
    "# drop loan from and organic_pesticide_expenditure \n",
    "# because the missingness is way to large\n",
    "data_.drop(columns=['Loan_from', 'organic_pesticide_expenditure'], \n",
    "          inplace=True)"
   ]
  },
  {
   "cell_type": "code",
   "execution_count": 5,
   "metadata": {},
   "outputs": [],
   "source": [
    "# Fill AgricultureLand with mean\n",
    "agriculture_land = data_['AgricultureLand']\n",
    "agriculture_land.fillna(value=agriculture_land.mean(), \n",
    "                        inplace=True)\n",
    "data_['AgricultureLand'] = agriculture_land"
   ]
  },
  {
   "cell_type": "code",
   "execution_count": 6,
   "metadata": {},
   "outputs": [],
   "source": [
    "# Fill business number with mode\n",
    "data_ = data_[data_.business_number != '`']\n",
    "data_['business_number'].value_counts()\n",
    "business_number = data_['business_number']\n",
    "business_number.fillna(value='0',\n",
    "                       inplace=True)\n",
    "data_['business_number'] = business_number"
   ]
  },
  {
   "cell_type": "code",
   "execution_count": 7,
   "metadata": {},
   "outputs": [],
   "source": [
    "# drop food_banana_wilt_diseases\n",
    "data_.drop(labels='food_banana_wilt_diseases', \n",
    "          axis=1,\n",
    "          inplace=True)\n",
    "\n",
    "# save a copy\n",
    "data_.to_csv('data_without_missing_values.csv', index=False)\n"
   ]
  },
  {
   "cell_type": "markdown",
   "metadata": {},
   "source": [
    "## Handle Outliers"
   ]
  },
  {
   "cell_type": "code",
   "execution_count": 8,
   "metadata": {},
   "outputs": [
    {
     "name": "stdout",
     "output_type": "stream",
     "text": [
      "(-0.9999999999999998, 3.8)\n"
     ]
    }
   ],
   "source": [
    "data2_ = data_.copy(deep=True)\n",
    "\n",
    "agriculture_land_bounds = getLowerAndUpperBounds(data=data2_,\n",
    "                                                 column='AgricultureLand')\n",
    "print(agriculture_land_bounds)\n",
    "\n",
    "data2_ = data2_[data2_['AgricultureLand'] < agriculture_land_bounds[1]]\n",
    "\n",
    "data2_.to_csv('data_without_outliers.csv', index=False)"
   ]
  },
  {
   "cell_type": "markdown",
   "metadata": {},
   "source": [
    "## Convert Categorical to numeric"
   ]
  },
  {
   "cell_type": "code",
   "execution_count": 9,
   "metadata": {},
   "outputs": [],
   "source": [
    "data3_ = pd.read_csv('data_without_outliers.csv')\n",
    "\n",
    "# Assuming df is your DataFrame\n",
    "label_encoder = LabelEncoder()\n",
    "\n",
    "# List of categorical columns to encode\n",
    "categorical_columns = data3_.select_dtypes(include=['object']).columns\n",
    "\n",
    "# Apply Label Encoding\n",
    "all_classes_ = []\n",
    "for column in categorical_columns:\n",
    "    data3_[column] = label_encoder.fit_transform(data3_[column])\n",
    "    all_classes_.append(label_encoder.classes_)\n",
    "\n",
    "data3_.to_csv(path_or_buf='categorized_data.csv', index=False)"
   ]
  },
  {
   "cell_type": "code",
   "execution_count": 51,
   "metadata": {},
   "outputs": [],
   "source": [
    "data4_ = data3_.copy(deep=True)\n",
    "\n",
    "# Define a function to categorize the values\n",
    "def categorize_status(value):\n",
    "    if value >= 2.15:\n",
    "        return \"On Track\"\n",
    "    elif value >= 1.77:\n",
    "        return \"At Risk\"\n",
    "    elif value >= 1.25:\n",
    "        return \"Struggling\"\n",
    "    else:\n",
    "        return \"Severely Struggling\"\n",
    "\n",
    "# Apply the function to create the new variable\n",
    "data4_['ProgressStatus'] = data4_['HHIncome+Consumption+Residues/Day'].apply(categorize_status)"
   ]
  },
  {
   "cell_type": "code",
   "execution_count": 52,
   "metadata": {},
   "outputs": [],
   "source": [
    "data4_.to_csv('data_with_progress.csv', index=False)"
   ]
  },
  {
   "cell_type": "markdown",
   "metadata": {},
   "source": [
    "## Handle Imbalance"
   ]
  },
  {
   "cell_type": "code",
   "execution_count": 53,
   "metadata": {},
   "outputs": [],
   "source": [
    "from imblearn.under_sampling import RandomUnderSampler\n",
    "\n",
    "# Assuming 'data4_' is your original DataFrame\n",
    "X_imbalanced = data4_.drop('ProgressStatus', axis=1)\n",
    "y_imbalanced = data4_['ProgressStatus']\n",
    "\n",
    "# Apply Random Under-Sampling\n",
    "undersample = RandomUnderSampler(sampling_strategy='auto', random_state=42)\n",
    "X_resampled, y_resampled = undersample.fit_resample(X_imbalanced, y_imbalanced)\n",
    "\n",
    "# Create a new DataFrame with resampled data\n",
    "resampled_data_ = pd.DataFrame(X_resampled, columns=X_imbalanced.columns)\n",
    "resampled_data_['ProgressStatus'] = y_resampled\n",
    "\n",
    "data4_.to_csv('resampled_data.csv', index=False)\n"
   ]
  },
  {
   "cell_type": "markdown",
   "metadata": {},
   "source": [
    "## Split the data"
   ]
  },
  {
   "cell_type": "code",
   "execution_count": 54,
   "metadata": {},
   "outputs": [
    {
     "name": "stdout",
     "output_type": "stream",
     "text": [
      "Training set shape: (2211, 72)\n",
      "Validation set shape: (738, 72)\n",
      "Testing set shape: (738, 72)\n"
     ]
    }
   ],
   "source": [
    "data5_ = resampled_data_\n",
    "\n",
    "from sklearn.model_selection import train_test_split\n",
    "\n",
    "# Define features and target\n",
    "X = data4_.drop('ProgressStatus', axis=1)\n",
    "y = data4_['ProgressStatus']\n",
    "\n",
    "# into training and testing sets \n",
    "X_train, X_test, y_train, y_test = train_test_split(X, y, test_size=0.2, random_state=42)\n",
    "\n",
    "# into training and validation sets \n",
    "X_train, X_val, y_train, y_val = train_test_split(X_train, y_train, test_size=0.25, random_state=42)\n",
    "\n",
    "# Print shapes to confirm\n",
    "print(f\"Training set shape: {X_train.shape}\")\n",
    "print(f\"Validation set shape: {X_val.shape}\")\n",
    "print(f\"Testing set shape: {X_test.shape}\")\n"
   ]
  },
  {
   "cell_type": "code",
   "execution_count": 86,
   "metadata": {},
   "outputs": [],
   "source": [
    "data5_.to_csv('cleaned_data.csv', index=False)"
   ]
  }
 ],
 "metadata": {
  "kernelspec": {
   "display_name": "base",
   "language": "python",
   "name": "python3"
  },
  "language_info": {
   "codemirror_mode": {
    "name": "ipython",
    "version": 3
   },
   "file_extension": ".py",
   "mimetype": "text/x-python",
   "name": "python",
   "nbconvert_exporter": "python",
   "pygments_lexer": "ipython3",
   "version": "3.12.3"
  }
 },
 "nbformat": 4,
 "nbformat_minor": 2
}
