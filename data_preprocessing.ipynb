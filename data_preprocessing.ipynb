{
 "cells": [
  {
   "cell_type": "code",
   "execution_count": 1,
   "metadata": {},
   "outputs": [],
   "source": [
    "import numpy as np\n",
    "import pandas as pd\n",
    "from helper_functions import getColumnsWithMissingData\n",
    "from helper_functions import getLowerAndUpperBounds\n",
    "from sklearn.preprocessing import LabelEncoder"
   ]
  },
  {
   "cell_type": "code",
   "execution_count": 68,
   "metadata": {},
   "outputs": [
    {
     "data": {
      "text/plain": [
       "Index(['0', '1', '2'], dtype='object', name='business_number')"
      ]
     },
     "execution_count": 68,
     "metadata": {},
     "output_type": "execute_result"
    }
   ],
   "source": [
    "# load data\n",
    "data_ = pd.read_csv('DataScientist_01_Assessment.csv')\n",
    "\n",
    "# Fill business number with mode\n",
    "data_ = data_[data_.business_number != '`']\n",
    "business_number = data_['business_number']\n",
    "business_number.value_counts().index"
   ]
  },
  {
   "cell_type": "markdown",
   "metadata": {},
   "source": [
    "## Handle Missing Data"
   ]
  },
  {
   "cell_type": "code",
   "execution_count": 69,
   "metadata": {},
   "outputs": [
    {
     "name": "stdout",
     "output_type": "stream",
     "text": [
      "Index(['AgricultureLand', 'business_number', 'Loan_from',\n",
      "       'organic_pesticide_expenditure', 'food_banana_wilt_diseases'],\n",
      "      dtype='object')\n"
     ]
    }
   ],
   "source": [
    "# load data\n",
    "data_ = pd.read_csv('DataScientist_01_Assessment.csv')\n",
    "\n",
    "# data info\n",
    "# print(data_.info())\n",
    "\n",
    "# find missing data\n",
    "columns_with_missing_data = getColumnsWithMissingData(data=data_)\n",
    "print(columns_with_missing_data)\n",
    "\n",
    "# drop loan from and organic_pesticide_expenditure \n",
    "# because the missingness is way to large\n",
    "data_.drop(columns=['Loan_from', 'organic_pesticide_expenditure'], \n",
    "          inplace=True)\n",
    "\n",
    "# Fill AgricultureLand with mean\n",
    "agriculture_land = data_['AgricultureLand']\n",
    "agriculture_land.fillna(value=agriculture_land.mean(), \n",
    "                        inplace=True)\n",
    "data_['AgricultureLand'] = agriculture_land\n",
    "\n",
    "# Fill business number with mode\n",
    "data_ = data_[data_.business_number != '`']\n",
    "data_['business_number'].value_counts()\n",
    "business_number = data_['business_number']\n",
    "business_number.fillna(value='0',\n",
    "                       inplace=True)\n",
    "data_['business_number'] = business_number\n",
    "\n",
    "# drop food_banana_wilt_diseases\n",
    "data_.drop(labels='food_banana_wilt_diseases', \n",
    "          axis=1,\n",
    "          inplace=True)\n",
    "\n",
    "# save a copy\n",
    "data_.to_csv('data_without_missing_values.csv', index=False)\n"
   ]
  },
  {
   "cell_type": "markdown",
   "metadata": {},
   "source": [
    "## Handle Outliers"
   ]
  },
  {
   "cell_type": "code",
   "execution_count": 49,
   "metadata": {},
   "outputs": [
    {
     "name": "stdout",
     "output_type": "stream",
     "text": [
      "     District    Cluster             Village        HouseHoldID  \\\n",
      "0     Kanungu  Rutendere            Kangyeyo  KAN-KAN-FER-K1768   \n",
      "1     Kanungu    Kihanda           Omurwambu  KAN-OMU-KAN-K4711   \n",
      "2     Kanungu   Bujengwe              Byumba  KAN-BYU-ANN-K4055   \n",
      "3     Kanungu   Bujengwe              Byumba  KAN-BYU-YUS-K4026   \n",
      "4     Kanungu   Bujengwe              Kazahi  KAN-KAZ-FAU-K2057   \n",
      "...       ...        ...                 ...                ...   \n",
      "3892  Rubanda   Nyamweru  Mushongati_Nangara     RUB-MUS-M-2805   \n",
      "3893  Rubanda   Nyamweru             Mirindi    RUB-MIR-M-23177   \n",
      "3894  Rubanda    Mugyera           Muruhinga    RUB-MUR-F-34300   \n",
      "3895  Rubanda   Nyamweru            Kakarisa     RUB-KAK-M-2217   \n",
      "3896  Rubanda    Mugyera              Butusi     RUB-BUT-M-6739   \n",
      "\n",
      "      HouseholdSize  TimeToOPD  TimeToWater  AgricultureLand  \\\n",
      "0                 3         60         35.0         0.250000   \n",
      "1                 3        120         10.0         1.000000   \n",
      "2                 2         40         10.0         1.583627   \n",
      "3                 8         15         40.0         1.000000   \n",
      "4                 5        120         51.0         1.000000   \n",
      "...             ...        ...          ...              ...   \n",
      "3892              5         30        120.0         1.000000   \n",
      "3893              5         60         30.0         1.500000   \n",
      "3894              5        120         60.0         7.000000   \n",
      "3895              2         60         45.0         3.000000   \n",
      "3896              4         60          3.0         2.000000   \n",
      "\n",
      "      Season1CropsPlanted  Season2CropsPlanted  ...  kitchen_house  \\\n",
      "0                       0                    6  ...              1   \n",
      "1                       2                    3  ...              1   \n",
      "2                       3                    3  ...              1   \n",
      "3                       2                    4  ...              1   \n",
      "4                       2                    2  ...              1   \n",
      "...                   ...                  ...  ...            ...   \n",
      "3892                    3                    3  ...              0   \n",
      "3893                    2                    3  ...              1   \n",
      "3894                    2                    4  ...              1   \n",
      "3895                    3                    4  ...              1   \n",
      "3896                    6                    4  ...              1   \n",
      "\n",
      "      bathroom_constructed  swept_compound  dish_rack_present  composts  \\\n",
      "0                        0               0                  1       0.0   \n",
      "1                        1               1                  1       1.0   \n",
      "2                        1               1                  0       0.0   \n",
      "3                        1               1                  1       1.0   \n",
      "4                        0               0                  1       0.0   \n",
      "...                    ...             ...                ...       ...   \n",
      "3892                     0               0                  0       1.0   \n",
      "3893                     1               1                  1       1.0   \n",
      "3894                     1               1                  1       1.0   \n",
      "3895                     1               1                  1       1.0   \n",
      "3896                     1               1                  1       0.0   \n",
      "\n",
      "      non_bio_waste_mgt_present  apply_liquid_manure  water_control_practise  \\\n",
      "0                             0                    0                       1   \n",
      "1                             1                    0                       1   \n",
      "2                             1                    0                       1   \n",
      "3                             1                    1                       1   \n",
      "4                             1                    1                       1   \n",
      "...                         ...                  ...                     ...   \n",
      "3892                          0                    0                       1   \n",
      "3893                          0                    1                       1   \n",
      "3894                          1                    1                       1   \n",
      "3895                          1                    1                       1   \n",
      "3896                          1                    0                       1   \n",
      "\n",
      "      soil_management  postharvest_food_storage  \n",
      "0                   1                         1  \n",
      "1                   1                         0  \n",
      "2                   1                         1  \n",
      "3                   1                         1  \n",
      "4                   1                         1  \n",
      "...               ...                       ...  \n",
      "3892                1                         0  \n",
      "3893                1                         1  \n",
      "3894                1                         1  \n",
      "3895                1                         1  \n",
      "3896                1                         1  \n",
      "\n",
      "[3896 rows x 72 columns]\n",
      "(-0.9999999999999998, 3.8)\n"
     ]
    }
   ],
   "source": [
    "data2_ = data_.copy(deep=True)\n",
    "print(data2_)\n",
    "\n",
    "agriculture_land_bounds = getLowerAndUpperBounds(data=data2_,\n",
    "                                                 column='AgricultureLand')\n",
    "print(agriculture_land_bounds)\n",
    "\n",
    "data2_ = data2_[data2_['AgricultureLand'] < agriculture_land_bounds[1]]\n",
    "\n",
    "data2_.to_csv('data_without_outliers.csv', index=False)"
   ]
  },
  {
   "cell_type": "markdown",
   "metadata": {},
   "source": [
    "## Convert Categorical to numeric"
   ]
  },
  {
   "cell_type": "code",
   "execution_count": 50,
   "metadata": {},
   "outputs": [
    {
     "name": "stdout",
     "output_type": "stream",
     "text": [
      "Index(['District', 'Cluster', 'Village', 'HouseHoldID'], dtype='object')\n",
      "[array(['Kanungu', 'Mitooma', 'Rubanda', 'Rukungiri'], dtype=object), array(['Bujengwe', 'Ibarya', 'Kacence', 'Kagati', 'Kahoko', 'Kihanda',\n",
      "       'Kitahurira', 'Kitugunda', 'Kiyanga', 'Mugyera', 'Murama', 'Ngoma',\n",
      "       'Nyamweru', 'Rutendere', 'Rwanja East', 'Rwoburunga'], dtype=object), array(['Bugarura', 'Buhumuriro', 'Bujerengye', 'Bukiriro_1', 'Bukiriro_2',\n",
      "       'Burambo', 'Buranda', 'Burera', 'Bushure', 'Butoboore', 'Butusi',\n",
      "       'Byumba', 'Ibarya', 'Iterero', 'Kababagi', 'Kabaranga', 'Kabingo',\n",
      "       'Kabirizi', 'Kacence', 'Kacerere', 'Kafunjo', 'Kagaana',\n",
      "       'Kagati_Kiyanga', 'Kagorogoro', 'Kagyeyo', 'Kahama', 'Kahara',\n",
      "       'Kairabwa', 'Kakarisa', 'Kakimba', 'Kakyeza', 'Kamabare',\n",
      "       'Kamuhozi', 'Kanganga', 'Kangyeyo', 'Kanoni', 'Kanyabutaye',\n",
      "       'Kanyankwanzi', 'Karokarungi', 'Karondo', 'Karukare', 'Karukonjo',\n",
      "       'Kashambya', 'Kashambya_Mugyera', 'Kashasha_Ikumba', 'Kataburaza',\n",
      "       'Katembe', 'Katojo', 'Katungu', 'Kazahi', 'Kazindiro_Nangara',\n",
      "       'Kengyeya', 'Kibeho', 'Kibishamwika', 'Kigarama', 'Kigongi',\n",
      "       'Kigoyi', 'Kihengamo_Nyamweru', 'Kihorongwa', 'Kihumuro',\n",
      "       'Kiniogo', 'Kinisya', 'Kirama', 'Kishanda', 'Kishegyere',\n",
      "       'Kisiizi_1', 'Kisiizi_2', 'Kitabugika_Mugyera', 'Kitahurira',\n",
      "       'Kitebwe', 'Kitugunda', 'Kyabukama', 'Kyandago', 'Kyemengo',\n",
      "       'Kyeshabo', 'Mabindi', 'Mayanja', 'Mirindi', 'Mugina', 'Murandi',\n",
      "       'Murubangye', 'Murubaya', 'Muruhinga', 'Mushebeya',\n",
      "       'Mushongati_Nangara', 'Mushorero', 'Musirwe', 'Muzinga', 'Nangara',\n",
      "       'Ndaragi', 'Ndeego', 'Ndurumo_Rwoburunga', 'Numba', 'Nyabisoni',\n",
      "       'Nyabiterekyere', 'Nyabubaare', 'Nyabubare', 'Nyabyogo',\n",
      "       'Nyabyondo_Rwoburunga', 'Nyakabale', 'Nyakagezi', 'Nyakagongo',\n",
      "       'Nyakarambi', 'Nyakashebeya', 'Nyakatoma', 'Nyakibuga',\n",
      "       'Nyakisoroza', 'Nyamabare', 'Nyamicucu_Mugyera', 'Nyamirama',\n",
      "       'Nyamishamba', 'Nyamisheshe', 'Nyamizi', 'Nyanga', 'Nyarubare',\n",
      "       'Nyaruhanga', 'Nyaruharo', 'Nyarurambi', 'Nyaruzinga',\n",
      "       'Nyarwanya_Rwanja', 'Omukatooma', 'Omurutezo', 'Omurwambu',\n",
      "       'Orujeebe', 'Rubaya', 'Rugando_Rwanja', 'Rugasha', 'Rugoma',\n",
      "       'Ruhita', 'Runyinya', 'Rurama', 'Rurindo', 'Rushaki', 'Rushebeya',\n",
      "       'Rushoroza', 'Rutendere', 'Rutonde', 'Rutoobo', 'Rutooma',\n",
      "       'Ruzonga', 'Rwabutera', 'Rwakutaka', 'Rwanama', 'Rwangeru',\n",
      "       'Rwaseyeza', 'Rwemirama', 'Rwendahi', 'Rwenkyende', 'Rwere',\n",
      "       'Rwoburunga', 'Rwongora', 'Rwonyo', 'Sherere'], dtype=object), array(['KAN-BUG-ALI-K6334', 'KAN-BUG-ANN-K6338', 'KAN-BUG-BEN-K6342', ...,\n",
      "       'Ruk-rwa-isa-r3521', 'Ruk-rwa-joh-r3523', 'Ruk-rwa-syl-r3499'],\n",
      "      dtype=object)]\n"
     ]
    }
   ],
   "source": [
    "data3_ = pd.read_csv('data_without_outliers.csv')\n",
    "\n",
    "# Assuming df is your DataFrame\n",
    "label_encoder = LabelEncoder()\n",
    "\n",
    "# List of categorical columns to encode\n",
    "categorical_columns = data3_.select_dtypes(include=['object']).columns\n",
    "print(categorical_columns)\n",
    "\n",
    "# Apply Label Encoding\n",
    "all_classes_ = []\n",
    "for column in categorical_columns:\n",
    "    data3_[column] = label_encoder.fit_transform(data3_[column])\n",
    "    all_classes_.append(label_encoder.classes_)\n",
    "\n",
    "print(all_classes_)\n",
    "\n",
    "data3_.to_csv(path_or_buf='categorized_data.csv', index=False)"
   ]
  },
  {
   "cell_type": "code",
   "execution_count": 51,
   "metadata": {},
   "outputs": [],
   "source": [
    "data4_ = data3_.copy(deep=True)\n",
    "\n",
    "# Define a function to categorize the values\n",
    "def categorize_status(value):\n",
    "    if value >= 2.15:\n",
    "        return \"On Track\"\n",
    "    elif value >= 1.77:\n",
    "        return \"At Risk\"\n",
    "    elif value >= 1.25:\n",
    "        return \"Struggling\"\n",
    "    else:\n",
    "        return \"Severely Struggling\"\n",
    "\n",
    "# Apply the function to create the new variable\n",
    "data4_['ProgressStatus'] = data4_['HHIncome+Consumption+Residues/Day'].apply(categorize_status)\n"
   ]
  },
  {
   "cell_type": "code",
   "execution_count": 52,
   "metadata": {},
   "outputs": [],
   "source": [
    "data4_.to_csv('data_with_progress.csv', index=False)"
   ]
  },
  {
   "cell_type": "markdown",
   "metadata": {},
   "source": [
    "## Handle Imbalance"
   ]
  },
  {
   "cell_type": "code",
   "execution_count": 53,
   "metadata": {},
   "outputs": [],
   "source": [
    "from imblearn.under_sampling import RandomUnderSampler\n",
    "\n",
    "# Assuming 'data4_' is your original DataFrame\n",
    "X_imbalanced = data4_.drop('ProgressStatus', axis=1)\n",
    "y_imbalanced = data4_['ProgressStatus']\n",
    "\n",
    "# Apply Random Under-Sampling\n",
    "undersample = RandomUnderSampler(sampling_strategy='auto', random_state=42)\n",
    "X_resampled, y_resampled = undersample.fit_resample(X_imbalanced, y_imbalanced)\n",
    "\n",
    "# Create a new DataFrame with resampled data\n",
    "resampled_data_ = pd.DataFrame(X_resampled, columns=X_imbalanced.columns)\n",
    "resampled_data_['ProgressStatus'] = y_resampled\n",
    "\n",
    "data4_.to_csv('resampled_data.csv', index=False)\n"
   ]
  },
  {
   "cell_type": "markdown",
   "metadata": {},
   "source": [
    "## Split the data"
   ]
  },
  {
   "cell_type": "code",
   "execution_count": 54,
   "metadata": {},
   "outputs": [
    {
     "name": "stdout",
     "output_type": "stream",
     "text": [
      "Training set shape: (2211, 72)\n",
      "Validation set shape: (738, 72)\n",
      "Testing set shape: (738, 72)\n"
     ]
    }
   ],
   "source": [
    "data5_ = resampled_data_\n",
    "\n",
    "from sklearn.model_selection import train_test_split\n",
    "\n",
    "# Assuming 'data4_' is your DataFrame with 'ProgressStatus' column\n",
    "\n",
    "# Define features and target\n",
    "X = data4_.drop('ProgressStatus', axis=1)\n",
    "y = data4_['ProgressStatus']\n",
    "\n",
    "# into training and testing sets \n",
    "X_train, X_test, y_train, y_test = train_test_split(X, y, test_size=0.2, random_state=42)\n",
    "\n",
    "# into training and validation sets \n",
    "X_train, X_val, y_train, y_val = train_test_split(X_train, y_train, test_size=0.25, random_state=42)\n",
    "\n",
    "# Print shapes to confirm\n",
    "print(f\"Training set shape: {X_train.shape}\")\n",
    "print(f\"Validation set shape: {X_val.shape}\")\n",
    "print(f\"Testing set shape: {X_test.shape}\")\n"
   ]
  },
  {
   "cell_type": "code",
   "execution_count": 86,
   "metadata": {},
   "outputs": [],
   "source": [
    "data5_.to_csv('cleaned_data.csv', index=False)"
   ]
  }
 ],
 "metadata": {
  "kernelspec": {
   "display_name": "base",
   "language": "python",
   "name": "python3"
  },
  "language_info": {
   "codemirror_mode": {
    "name": "ipython",
    "version": 3
   },
   "file_extension": ".py",
   "mimetype": "text/x-python",
   "name": "python",
   "nbconvert_exporter": "python",
   "pygments_lexer": "ipython3",
   "version": "3.12.3"
  }
 },
 "nbformat": 4,
 "nbformat_minor": 2
}
